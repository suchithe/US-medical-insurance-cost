{
 "cells": [
  {
   "cell_type": "markdown",
   "metadata": {},
   "source": [
    "# U.S. Medical Insurance Costs"
   ]
  },
  {
   "cell_type": "markdown",
   "metadata": {},
   "source": [
    "Import required libraries "
   ]
  },
  {
   "cell_type": "code",
   "execution_count": 49,
   "metadata": {},
   "outputs": [],
   "source": [
    "import csv\n",
    "import os\n",
    "from collections import Counter"
   ]
  },
  {
   "cell_type": "code",
   "execution_count": 50,
   "metadata": {},
   "outputs": [],
   "source": [
    "os.getcwd()\n",
    "os.chdir('/Users/suchitheslaptop/Desktop/Coding/data_analysis/coding_again/medical_insurance_cost')"
   ]
  },
  {
   "cell_type": "code",
   "execution_count": 56,
   "metadata": {},
   "outputs": [
    {
     "name": "stdout",
     "output_type": "stream",
     "text": [
      "1. average age.\n",
      "2. area majority are from\n",
      "3. cost between smokers and non smokers.\n",
      "4. average age for someone who has one child\n",
      "\n"
     ]
    }
   ],
   "source": [
    "with open(\"objectives.txt\") as o:\n",
    "    reader = o.read()\n",
    "    print(reader)\n",
    "    "
   ]
  },
  {
   "cell_type": "code",
   "execution_count": 80,
   "metadata": {},
   "outputs": [],
   "source": [
    "os.chdir('/Users/suchitheslaptop/Desktop/Coding/data_analysis/\\\n",
    "coding_again/medical_insurance_cost/python-portfolio-project-starter-files')"
   ]
  },
  {
   "cell_type": "code",
   "execution_count": 92,
   "metadata": {},
   "outputs": [],
   "source": [
    "#open lists\n",
    "ages = []\n",
    "regions = []\n",
    "smoker_col = []\n",
    "non_smoker_col = []\n",
    "parent_ages = []\n",
    "\n",
    "#manipulate data\n",
    "\n",
    "with open('insurance.csv', newline='') as df:\n",
    "    data_set = csv.DictReader(df)\n",
    "    #add people to the ages\n",
    "    for col in data_set:\n",
    "        ages.append(col[\"age\"])\n",
    "        #add people to the regions\n",
    "        regions.append(col[\"region\"])\n",
    "        #add people to smoker/non smoker\n",
    "        if col[\"smoker\"] == \"yes\":\n",
    "            smoker_col.append(col[\"charges\"])\n",
    "        if col[\"smoker\"] == \"no\":\n",
    "            non_smoker_col.append(col[\"charges\"])\n",
    "        #add people to parent ages list\n",
    "        if int(col[\"children\"]) > 0:\n",
    "            parent_ages.append(col[\"age\"])\n",
    "        \n",
    "            \n",
    "\n",
    "    \n",
    "    "
   ]
  },
  {
   "cell_type": "markdown",
   "metadata": {},
   "source": [
    "find the average age of individuals"
   ]
  },
  {
   "cell_type": "code",
   "execution_count": 42,
   "metadata": {},
   "outputs": [
    {
     "name": "stdout",
     "output_type": "stream",
     "text": [
      "39.20702541106129\n"
     ]
    }
   ],
   "source": [
    "total_age = 0\n",
    "for age in ages:\n",
    "    total_age += int(age)\n",
    "average_age = total_age / len(ages)\n",
    "print(average_age)"
   ]
  },
  {
   "cell_type": "markdown",
   "metadata": {},
   "source": [
    "majority area"
   ]
  },
  {
   "cell_type": "code",
   "execution_count": 44,
   "metadata": {},
   "outputs": [
    {
     "name": "stdout",
     "output_type": "stream",
     "text": [
      "Counter({'southeast': 364, 'southwest': 325, 'northwest': 325, 'northeast': 324})\n"
     ]
    }
   ],
   "source": [
    "print(Counter(regions))"
   ]
  },
  {
   "cell_type": "markdown",
   "metadata": {},
   "source": [
    "Cost between smokers and non Smokers"
   ]
  },
  {
   "cell_type": "code",
   "execution_count": 90,
   "metadata": {},
   "outputs": [
    {
     "name": "stdout",
     "output_type": "stream",
     "text": [
      "average cost of insurance smoker is 32050.23 $\n",
      "average cost of insurance non smoker is 8434.27 $\n",
      "the average insurance cost of a smoker is 3.8 times higher the average insurance cost of a non smoker\n"
     ]
    }
   ],
   "source": [
    "#average cost for smoker\n",
    "total_cost_smoker = 0\n",
    "for cost in smoker_col:\n",
    "    total_cost_smoker += float(cost)\n",
    "average_cost_smoker = total_cost_smoker/len(smoker_col)\n",
    "print(\"average cost of insurance smoker is\", round(average_cost_smoker, 2), \"$\")\n",
    "\n",
    "#average cost for non smoker\n",
    "total_cost_non_smoker = 0\n",
    "for cost in non_smoker_col:\n",
    "    total_cost_non_smoker += float(cost)\n",
    "average_cost_non_smoker = total_cost_non_smoker/len(non_smoker_col)\n",
    "print(\"average cost of insurance non smoker is\", round(average_cost_non_smoker, 2), \"$\")\n",
    "\n",
    "# higher or lower statement factor\n",
    "factor = \"\"\n",
    "if average_cost_smoker > average_cost_non_smoker:\n",
    "    factor = \"higher\"\n",
    "else:\n",
    "    factor = \"lower\"\n",
    "\n",
    "\n",
    "print(f\"the average insurance cost of a smoker is {round(average_cost_smoker/average_cost_non_smoker, 2)} \\\n",
    "times {factor} the average insurance cost of a non smoker\")"
   ]
  },
  {
   "cell_type": "markdown",
   "metadata": {},
   "source": [
    "find the average age of parents "
   ]
  },
  {
   "cell_type": "code",
   "execution_count": 96,
   "metadata": {},
   "outputs": [
    {
     "name": "stdout",
     "output_type": "stream",
     "text": [
      "The average age of a parent with at least one child is 39.78 years.\n"
     ]
    }
   ],
   "source": [
    "parent_age_total = 0\n",
    "for age in parent_ages:\n",
    "    parent_age_total += int(age)\n",
    "average_parent_age = parent_age_total / len(parent_ages)\n",
    "print(f'The average age of a parent with at least one child is {round(average_parent_age, 2)} years.')"
   ]
  },
  {
   "cell_type": "code",
   "execution_count": null,
   "metadata": {},
   "outputs": [],
   "source": []
  }
 ],
 "metadata": {
  "kernelspec": {
   "display_name": "Python 3",
   "language": "python",
   "name": "python3"
  },
  "language_info": {
   "codemirror_mode": {
    "name": "ipython",
    "version": 3
   },
   "file_extension": ".py",
   "mimetype": "text/x-python",
   "name": "python",
   "nbconvert_exporter": "python",
   "pygments_lexer": "ipython3",
   "version": "3.9.1"
  }
 },
 "nbformat": 4,
 "nbformat_minor": 4
}
